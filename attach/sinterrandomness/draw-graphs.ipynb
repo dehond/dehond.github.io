{
 "cells": [
  {
   "cell_type": "code",
   "execution_count": 12,
   "id": "ab5601db-fd8f-4ae4-8b96-016ed88d90e9",
   "metadata": {},
   "outputs": [],
   "source": [
    "import networkx as nx\n",
    "import matplotlib.pyplot as plt"
   ]
  },
  {
   "cell_type": "code",
   "execution_count": 16,
   "id": "6d1aa4de-b37a-480a-a6a6-61f812e4db74",
   "metadata": {},
   "outputs": [],
   "source": [
    "%matplotlib inline"
   ]
  },
  {
   "cell_type": "code",
   "execution_count": 27,
   "id": "30b9e4d3-a79c-47cb-81a3-af1f30e0c73b",
   "metadata": {},
   "outputs": [],
   "source": [
    "G = nx.Graph()\n",
    "elist = [(0, 1), (1, 2), (2, 3), (3, 0), (4, 5), (5, 4), (6, 8), (7, 9), (8, 7), (9, 6)]\n",
    "G.add_edges_from(elist)"
   ]
  },
  {
   "cell_type": "code",
   "execution_count": 102,
   "id": "87ea3061-6708-4ffd-9d7b-4ee8a7e80fca",
   "metadata": {},
   "outputs": [],
   "source": [
    "l1 = list(filter(lambda l: l[0] > l[1], elist))\n",
    "l2 = list(filter(lambda l: l[0] < l[1], elist))\n",
    "ls = [l1, l2]"
   ]
  },
  {
   "cell_type": "code",
   "execution_count": 103,
   "id": "d60f913e-478a-41a4-b5bf-940e2f006e88",
   "metadata": {},
   "outputs": [
    {
     "data": {
      "image/png": "[encoded data removed]",
      "text/plain": [
       "<Figure size 216x288 with 1 Axes>"
      ]
     },
     "metadata": {},
     "output_type": "display_data"
    }
   ],
   "source": [
    "fig, ax = plt.subplots(1, 1, figsize = (3, 4))\n",
    "\n",
    "nx.draw_networkx_nodes(G, pos=nx.circular_layout(G),\n",
    "                       node_size=100, node_color=\"none\", edgecolors=\"k\")\n",
    "\n",
    "for i in range(2):\n",
    "    nx.draw_networkx_edges(G, pos=nx.circular_layout(G), edgelist = ls[i],\n",
    "                           arrows = True, arrowstyle=\"->\", arrowsize = 24,\n",
    "                        connectionstyle=\"arc3,rad=0.3\");\n",
    "    \n",
    "ax.axis(\"off\");\n",
    "fig.savefig(\"graph.svg\")"
   ]
  },
  {
   "cell_type": "code",
   "execution_count": 116,
   "id": "b52f19ee-dec0-400a-a7c2-6db6d08efabf",
   "metadata": {},
   "outputs": [],
   "source": [
    "G = nx.Graph()\n",
    "elist = [(i, (i + 1)%10) for i in range(10)]\n",
    "G.add_edges_from(elist)\n",
    "\n",
    "l1 = list(filter(lambda l: l[0] > l[1], elist))\n",
    "l2 = list(filter(lambda l: l[0] < l[1], elist))\n",
    "ls = [l1, l2]\n",
    "\n",
    "elist = [((i % 5) + 5 * (i // 5), (i + 1)%5 + 5 * (i // 5)) for i in range(10)]\n",
    "l1 = list(filter(lambda l: l[0] > l[1], elist))\n",
    "l2 = list(filter(lambda l: l[0] < l[1], elist))\n",
    "l2s = [l1, l2]"
   ]
  },
  {
   "cell_type": "code",
   "execution_count": 117,
   "id": "53147e15-bbc9-4b59-8a1e-e6b16d60c9ab",
   "metadata": {},
   "outputs": [
    {
     "data": {
      "image/png": "[encoded data removed]",
      "text/plain": [
       "<Figure size 432x288 with 2 Axes>"
      ]
     },
     "metadata": {},
     "output_type": "display_data"
    }
   ],
   "source": [
    "fig, ax = plt.subplots(1, 2, figsize = (6, 4))\n",
    "\n",
    "nx.draw_networkx_nodes(G, pos=nx.circular_layout(G),\n",
    "                       node_size=100, node_color=\"none\", edgecolors=\"k\",\n",
    "                      ax = ax[0])\n",
    "\n",
    "for i in range(2):\n",
    "    nx.draw_networkx_edges(G, pos=nx.circular_layout(G), edgelist = ls[i],\n",
    "                           arrows = True, arrowstyle=\"->\", arrowsize = 24,\n",
    "                        connectionstyle=\"arc3,rad=0.3\",\n",
    "                          ax = ax[0]);\n",
    "    \n",
    "nx.draw_networkx_nodes(G, pos=nx.circular_layout(G),\n",
    "                       node_size=100, node_color=\"none\", edgecolors=\"k\",\n",
    "                      ax = ax[1])\n",
    "\n",
    "for i in range(2):\n",
    "    nx.draw_networkx_edges(G, pos=nx.circular_layout(G), edgelist = l2s[i],\n",
    "                           arrows = True, arrowstyle=\"->\", arrowsize = 24,\n",
    "                        connectionstyle=\"arc3,rad=0.3\",\n",
    "                          ax = ax[1]);\n",
    "    \n",
    "ax[0].axis(\"off\");\n",
    "ax[1].axis(\"off\");\n",
    "fig.savefig(\"graph-2.svg\")"
   ]
  },
  {
   "cell_type": "code",
   "execution_count": null,
   "id": "f1c1ca9d-e976-41d3-952d-b64949ebc32b",
   "metadata": {},
   "outputs": [],
   "source": []
  }
 ],
 "metadata": {
  "kernelspec": {
   "display_name": "Python 3 (ipykernel)",
   "language": "python",
   "name": "python3"
  },
  "language_info": {
   "codemirror_mode": {
    "name": "ipython",
    "version": 3
   },
   "file_extension": ".py",
   "mimetype": "text/x-python",
   "name": "python",
   "nbconvert_exporter": "python",
   "pygments_lexer": "ipython3",
   "version": "3.9.15"
  }
 },
 "nbformat": 4,
 "nbformat_minor": 5
}
