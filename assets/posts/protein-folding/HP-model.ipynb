{
 "cells": [
  {
   "cell_type": "markdown",
   "id": "cbec7215-d553-472b-80dc-fed81a7a7de9",
   "metadata": {},
   "source": [
    "# Simple protein folding using quantum annealing\n",
    "Implement the HP model after [Perdomo _et al._](https://journals.aps.org/pra/abstract/10.1103/PhysRevA.78.012320)"
   ]
  },
  {
   "cell_type": "code",
   "execution_count": 1,
   "id": "3181c5e7-9e5f-41a0-a914-40c25ffffc44",
   "metadata": {},
   "outputs": [],
   "source": [
    "using QuantumOptics\n",
    "using PyPlot\n",
    "using LinearAlgebra\n",
    "using LaTeXStrings"
   ]
  },
  {
   "cell_type": "markdown",
   "id": "e4830b8f-e6ee-4140-a9a2-a3995a79e074",
   "metadata": {},
   "source": [
    "## Defining the Hamiltonian"
   ]
  },
  {
   "cell_type": "markdown",
   "id": "c8be3c30-0b8c-4366-ba34-557f86a4fd1a",
   "metadata": {},
   "source": [
    "Because of the many degrees of freedom involved, protein folding is a complicated problem. The amino acids that make up the protein are linked by chemical bonds, but these can be at arbitrary angles, and so the state space is huge. Although it's a classical problem at heart, it's difficult to find the configuration that has the lowest energy. Following [Perdomo _et al._](https://journals.aps.org/pra/abstract/10.1103/PhysRevA.78.012320) we'll explore how quantum annealing can potentially simplify things, by mapping the problem on a Hamiltonian, and slowly ramping into this from a transverse Ising model. Below we'll see why this works so well.\n",
    "\n",
    "To keep things simple we'll need to make a few approximations. For one we'll assume the amino acids live on a two-dimensional lattice. This discretizes the degrees of freedom, but we'll still be able to get characteristic folding behavior out of it. We'll also assume there are only two types of amino acids: polar ones and hydrophobic ones (this is known as [the HP model](https://en.wikipedia.org/wiki/Hydrophobic-polar_protein_folding_model)). The hydrophobic ones like to avoid the water in the solution they're invariably part of, and so there's an energy reduction if we can get two or more to stick together. (It is possible to design models with more complicated interactions; for instance using the [Miyazawa-Jernigan matrix](https://onlinelibrary.wiley.com/doi/full/10.1002/prot.10239?casa_token=jxV3qZED8YMAAAAA%3ADQr0nz2QYj2PG0qaTfNSDDfT7Bvja9_8TpDoCpdulXb-jChZMcYEP16cupMto2S-QmYkLhzTbGNfWA).)\n",
    "\n",
    "Finally, we'll only look at four proteins (the HPPH chain). This requires a $4\\times 4$ lattice, since the chain will at most extend four sites along one axis. We can fix the two center proteins to the sites in the middle of the lattice because the problem is translationally invariant.\n",
    "\n",
    "As [Perdomo _et al._](https://journals.aps.org/pra/abstract/10.1103/PhysRevA.78.012320) point out, we need three terms in the Hamiltonian to accurately map the protein folding problem:\n",
    "1. A term preventing double-occupancy of a single site,\n",
    "2. A term guaranteeing the amino acids form a chain,\n",
    "3. A term accounting for some amino acids being hydrophobic, encouraging them to stick together.\n",
    "\n",
    "We describe the position of the amino acids by converting the $x$ and $y$ coordinates to binary numbers. Since there are four sites in each direction we need two binary digits per axis, so the position of each protein is described by four qubits. The position of the first protein is given by $q_4q_3q_2q_1$, where $0011$, for instance, corresponds to the bottom right corner of the lattice.\n",
    "\n",
    "The full state of the system is described by the vector\n",
    "$$\n",
    "    \\mathbf{q} = q_{16} q_{15} \\cdots q_2 q_1,\n",
    "$$\n",
    "although - since the middle proteins have a fixed position - the string $q_{12}\\cdots q_5$ is constant, so we have eight actual qubits left.\n",
    "\n",
    "Let's first set up the basis:"
   ]
  },
  {
   "cell_type": "code",
   "execution_count": 2,
   "id": "df082b67-90b7-43fd-8d80-a2697582cfec",
   "metadata": {},
   "outputs": [],
   "source": [
    "N = 4           # Number of amino acids\n",
    "D = 2           # Dimension of system\n",
    "\n",
    "Nqubits = Int( (N-2)*D*log2(N) )  # We fix the two middle amino acids, so use N-2\n",
    "basissize = 2^Nqubits\n",
    "\n",
    "singlebasis = GenericBasis(2)\n",
    "basis = tensor(repeat([singlebasis], Nqubits)...)\n",
    "id = identityoperator(basis);"
   ]
  },
  {
   "cell_type": "markdown",
   "id": "b181908b-7d40-4ad0-92e8-bc295f4091ee",
   "metadata": {},
   "source": [
    "Define the operators $q_i$ acting on the $i$th qubit. We squeeze the string $10100110$ in between to describe the fixed positions of the middle two amino acids."
   ]
  },
  {
   "cell_type": "code",
   "execution_count": 3,
   "id": "ed25621d-e456-4377-9224-1a8a49bd1545",
   "metadata": {},
   "outputs": [],
   "source": [
    "function get_q(i)\n",
    "    id_array = repeat([identityoperator(singlebasis)], Nqubits)\n",
    "    id_array[i] = diagonaloperator(singlebasis, complex([0.0, 1.0]))\n",
    "    return tensor(id_array...)\n",
    "end\n",
    "\n",
    "qs = [get_q(i) for i ∈ 1:Nqubits]\n",
    "q_insert = [identityoperator(basis) * q for q ∈ [1, 0, 1, 0, 0, 1, 1, 0]]\n",
    "qs = [qs[1:4]..., q_insert..., qs[5:end]...];"
   ]
  },
  {
   "cell_type": "markdown",
   "id": "d166d341-d883-4978-9f5f-e9796fd0657d",
   "metadata": {},
   "source": [
    "Define the function that executes the `XNOR` operation on two qubits, and the function $f(i,k)$ that finds the particular qubit corresponding to the start of the bit string describing the coordinate on the axis $k$ for amino acid $i$. We also need the operator that gives us the square of the distance between two amino acids $i$ and $j$. (Cf. pp. 4-5 of [Perdomo _et al._](https://journals.aps.org/pra/abstract/10.1103/PhysRevA.78.012320) for the definitions.)"
   ]
  },
  {
   "cell_type": "code",
   "execution_count": 4,
   "id": "85dbe694-cfac-4747-bcad-2f1fa4bb01c3",
   "metadata": {},
   "outputs": [
    {
     "data": {
      "text/plain": [
       "dsq (generic function with 1 method)"
      ]
     },
     "execution_count": 4,
     "metadata": {},
     "output_type": "execute_result"
    }
   ],
   "source": [
    "xnor(i, j) = id - qs[i] - qs[j] + 2 * qs[i] * qs[j]\n",
    "f(i, k) = Integer( D*(i - 1) * log2(N) + (k - 1) * log2(N) )\n",
    "dsq(i, j) = sum([ sum([2^(r - 1) * ( qs[ f(j, k) + r ] - qs[ f(i, k) + r ] ) for r ∈ 1:2])^2 for k ∈ 1:2])"
   ]
  },
  {
   "cell_type": "markdown",
   "id": "19c16c13-8c5d-40e6-a65f-cf440e75565c",
   "metadata": {},
   "source": [
    "#### On-site term\n",
    "Define the onsite term between two amino acids $i$ and $j$, and sum it up to obtain the full Hamiltonian term. This operator checks whether all of the qubits that describe the positions of two amino acids are the same, and if they are it results in an energy penalty."
   ]
  },
  {
   "cell_type": "code",
   "execution_count": 5,
   "id": "86cb904f-54a2-4a06-afff-eae5c3a2fe3c",
   "metadata": {},
   "outputs": [],
   "source": [
    "H_onsite(i, j) = prod([xnor(f(i, k) + r, f(j, k) + r) for r ∈ 1:2 for k ∈ 1:2])\n",
    "H_onsite_total = sum([H_onsite(i, j) for i ∈ 1:(N-1) for j ∈ (i+1):N]) - H_onsite(2, 3);"
   ]
  },
  {
   "cell_type": "markdown",
   "id": "4d274f4f-c529-4f70-b90c-e385fff2d38e",
   "metadata": {},
   "source": [
    "#### Primary structure term\n",
    "Next we need a term that ensures the amino acids form a continuous chain on the lattice. We need the distance between two consecutive amino acids to equal 1, if it doesn't there's an energy penalty. Note that this term would encourage two amino acids to sit on the same site, for then the distance between them would be zero. This is offset by making the energy penalty of the on-site term larger than that of the primary structure term."
   ]
  },
  {
   "cell_type": "code",
   "execution_count": 6,
   "id": "5c222285-2854-425b-8fd6-9e845e98b907",
   "metadata": {},
   "outputs": [],
   "source": [
    "H_prim = -(N - 1) * id + sum([dsq(i, i + 1) for i ∈ 1:(N - 1)]);"
   ]
  },
  {
   "cell_type": "markdown",
   "id": "b8bba67a-fa90-4c18-b13d-1301c31eaa55",
   "metadata": {
    "tags": []
   },
   "source": [
    "#### Interaction term\n",
    "For the hydrophobic proteins we need operators to check whether there's another hydrophobic to their left, right, top, or bottom. Obtaining these operators is quite involved; the producedure is described on pp. 5-7 of [Perdomo _et al._](https://journals.aps.org/pra/abstract/10.1103/PhysRevA.78.012320)."
   ]
  },
  {
   "cell_type": "code",
   "execution_count": 7,
   "id": "a510fb24-bd90-4d0c-984d-3da37f3e4dcd",
   "metadata": {},
   "outputs": [
    {
     "data": {
      "text/plain": [
       "ym (generic function with 1 method)"
      ]
     },
     "execution_count": 7,
     "metadata": {},
     "output_type": "execute_result"
    }
   ],
   "source": [
    "xp(i, j) = ( (id - qs[ f(i, 1) + 1 ]) * qs[ f(j, 1) + 1 ] * xnor( f(j, 1) + 2, f(i, 1) + 2 )\n",
    "    * prod( [xnor( f(i, 2) + s, f(j, 2) + s ) for s ∈ 1:2]) )\n",
    "xm(i, j) = ( (id - qs[ f(i, 1) + 1 ]) * qs[ f(j, 1) + 1 ] * qs[ f(i, 1) + 2 ]\n",
    "    * ( qs[ f(j, 1) + 2 ] + qs[ f(i, 1) + 2 ] - 2 * qs[ f(j, 1) + 2 ] * qs[ f(i, 1) + 2 ] )\n",
    "    * prod( [xnor( f(i, 2) + s, f(j, 2) + s ) for s ∈ 1:2] ) )\n",
    "yp(i, j) = ( (id - qs[ f(i, 2) + 1 ]) * qs[ f(j, 2) + 1 ] * xnor( f(j, 2) + 2, f(i, 2) + 2 )\n",
    "    * prod( [xnor( f(i, 1) + s, f(j, 1) + s ) for s ∈ 1:2] ) )\n",
    "ym(i, j) = ( (id - qs[ f(i, 2) + 1 ] ) * qs[ f(j, 2) + 1 ] * qs[ f(i, 2) + 2 ]\n",
    "    * ( qs[ f(j, 2) + 2 ] + qs[ f(i, 2) + 2 ] - 2 * qs[ f(j, 2) + 2 ] * qs[ f(i, 2) + 2 ] )\n",
    "    * prod( [xnor( f(i, 1) + s, f(j, 1) + s ) for s ∈ 1:2] ) )"
   ]
  },
  {
   "cell_type": "markdown",
   "id": "33c624d9-6f2a-4fa0-93a7-7cdc64ac665b",
   "metadata": {},
   "source": [
    "In the HPPH chain it's only the first and fourth protein that are hydrophobic. We give the Hamiltonian an energy reduction if these two are next to each other:"
   ]
  },
  {
   "cell_type": "code",
   "execution_count": 8,
   "id": "d41aa213-7bef-418d-8fdf-e9f59e133efe",
   "metadata": {},
   "outputs": [],
   "source": [
    "H_pairwise(i, j) = xp(i, j) + xm(i, j) + yp(i, j) + ym(i, j)\n",
    "H_pairwise_total = -H_pairwise(1, 4) - H_pairwise(4, 1);"
   ]
  },
  {
   "cell_type": "markdown",
   "id": "54da5555-df0c-455e-b2da-ca972b26d305",
   "metadata": {},
   "source": [
    "Now we put it all together. We ensure that the energy cost of double occupancy is larger than the energy gain we get from the primary structure term if the distance between neighbors is zero."
   ]
  },
  {
   "cell_type": "code",
   "execution_count": 9,
   "id": "a7735373-9763-47ad-af16-c0f2f3390926",
   "metadata": {},
   "outputs": [],
   "source": [
    "λ0 = N + 1\n",
    "λ1 = N\n",
    "Htot = λ0 * H_onsite_total + λ1 * H_prim + H_pairwise_total;"
   ]
  },
  {
   "cell_type": "markdown",
   "id": "61f36542-728c-477c-abdb-2b00fa4f9b31",
   "metadata": {},
   "source": [
    "Let's draw some configurations."
   ]
  },
  {
   "cell_type": "code",
   "execution_count": 10,
   "id": "5816cb4b-6eea-49a6-b1e8-76367b112311",
   "metadata": {
    "tags": []
   },
   "outputs": [
    {
     "data": {
      "image/png": "[encoded data removed]",
      "text/plain": [
       "Figure(PyObject <Figure size 500x250 with 2 Axes>)"
      ]
     },
     "metadata": {},
     "output_type": "display_data"
    },
    {
     "name": "stderr",
     "output_type": "stream",
     "text": [
      "sys:1: UserWarning: FixedFormatter should only be used together with FixedLocator\n"
     ]
    }
   ],
   "source": [
    "function to_coordinate(q)\n",
    "    x = sum([2^(r - 1)*q[r] for r ∈ 1:2])\n",
    "    y = sum([2^(r - 1)*q[r + 2] for r ∈ 1:2])\n",
    "    return (x, y)\n",
    "end\n",
    "\n",
    "function draw_configuration(ax, q)\n",
    "    xpts = ones(4)' .* [0:3;]\n",
    "    ypts = [0:3;]' .* ones(4)\n",
    "    ax.scatter(xpts, ypts, c = \"gray\", alpha = 0.5)\n",
    "  #  ax.axis(\"off\")\n",
    "    \n",
    "    aa_1 = to_coordinate(q[1:4])\n",
    "    aa_2 = to_coordinate(q[5:end])\n",
    "    \n",
    "    mrk = 5e2\n",
    "    ax.scatter([1], [1], [mrk], c = \"C0\")\n",
    "    ax.scatter([2], [1], [mrk], c = \"C0\")\n",
    "    ax.scatter(aa_1[1], aa_1[2], [mrk], c = \"C3\")\n",
    "    ax.scatter(aa_2[1], aa_2[2], [mrk], c = \"C3\")\n",
    "\n",
    "    ax.set_xlim([-0.5, 3.5])\n",
    "    ax.set_ylim([-0.5, 3.5])\n",
    "end\n",
    "\n",
    "fig, ax = plt.subplots(1, 2, figsize = (5, 2.5), sharey = true)\n",
    "draw_configuration(ax[1], [Integer(real(expect(qs[i], basisstate(basis, 2)))) for i ∈ [1:4; 13:16;]])\n",
    "draw_configuration(ax[2], [Integer(real(expect(qs[i], basisstate(basis, 170)))) for i ∈ [1:4; 13:16;]])\n",
    "\n",
    "fig.subplots_adjust(wspace = 0)\n",
    "ax[1].set_xticklabels([\"\", \"00\", \"01\", \"10\", \"11\"])\n",
    "ax[1].set_yticklabels([\"\", \"00\", \"01\", \"10\", \"11\"])\n",
    "ax[2].set_xticklabels([\"\", \"00\", \"01\", \"10\", \"11\"])\n",
    "\n",
    "ax[1].set_ylabel(L\"q_{i+3}q_{i+2}\", fontsize = 14)\n",
    "ax[1].set_xlabel(L\"q_{i+1}q_{i}\", fontsize = 14)\n",
    "ax[2].set_xlabel(L\"q_{i+1}q_{i}\", fontsize = 14)\n",
    "\n",
    "ax[1].set_facecolor(\"none\")\n",
    "ax[2].set_facecolor(\"none\")\n",
    "\n",
    "fig.tight_layout()\n",
    "fig.savefig(\"lattice.svg\", transparent = true)"
   ]
  },
  {
   "cell_type": "markdown",
   "id": "092f7f5e-1da3-4a5d-9671-6fc39c08009b",
   "metadata": {},
   "source": [
    "## Annealing"
   ]
  },
  {
   "cell_type": "markdown",
   "id": "df947bc8-9f47-4bd7-b112-952f8f5e2082",
   "metadata": {},
   "source": [
    "It's actually quite straightforward to see what the minimum energy configuration is: put the first and fourth proteins next to each other while still satisfying the primary structure constraint (see above). But let's see if we can anneal our way into this.\n",
    "\n",
    "The idea is to start with a state that's a superposition of all possible lattice configurations. A requirement is that this is a nondegenerate ground state of the initial Hamiltonian, which can then be slowly ramped into the Hamiltonian of the problem. The initial state we're after is\n",
    "$$\n",
    "    |\\psi_0\\rangle = \\frac{1}{16} \\left(|0\\rangle + |1\\rangle \\right)^{\\otimes 8},\n",
    "$$\n",
    "which maps onto the ground state of the transverse-field Ising Hamiltonian:\n",
    "$$\n",
    "    \\mathcal{H}_\\mathrm{Ising} = \\sum_{i = 1}^8 \\sigma_i^x.\n",
    "$$\n",
    "We then slowly ramp into the problem Hamiltonian, $\\mathcal{H}_\\mathrm{problem}$, over some time $\\tau$:\n",
    "$$\n",
    "    \\mathcal{H}(t) = (1-t/\\tau)\\mathcal{H}_\\mathrm{Ising} + (t/\\tau) \\mathcal{H}_\\mathrm{problem}.\n",
    "$$\n",
    "The ramp time needs to be sufficiently slow so that the system does not undergo any diabatic transitions out of the ground state as it traverses avoided crossings."
   ]
  },
  {
   "cell_type": "code",
   "execution_count": 11,
   "id": "b36c3635-fe6b-471e-9ef1-838d0d0e1287",
   "metadata": {},
   "outputs": [],
   "source": [
    "function get_qx(i)\n",
    "    ops = repeat([identityoperator(singlebasis)], Nqubits)\n",
    "    ops[i] = SparseOperator(singlebasis, complex([0.5 -0.5; -0.5 0.5]))\n",
    "    return tensor(ops...)\n",
    "end\n",
    "\n",
    "qx_full = sum([get_qx(i) for i ∈ 1:Nqubits])\n",
    "ψ0 = tensor(repeat([Ket(singlebasis, complex([1/sqrt(2), 1/sqrt(2)]))], Nqubits)...);"
   ]
  },
  {
   "cell_type": "code",
   "execution_count": 12,
   "id": "e62f2257-8177-49e3-b792-a1134a787d43",
   "metadata": {},
   "outputs": [
    {
     "data": {
      "text/plain": [
       "H (generic function with 1 method)"
      ]
     },
     "execution_count": 12,
     "metadata": {},
     "output_type": "execute_result"
    }
   ],
   "source": [
    "tau = 100\n",
    "H(t, ψ) = (1-t/tau) * qx_full + t/tau * Htot"
   ]
  },
  {
   "cell_type": "code",
   "execution_count": 13,
   "id": "bc10c4ce-7e4e-4bf8-9d23-38060aa414ad",
   "metadata": {},
   "outputs": [],
   "source": [
    "tspan = range(0, tau, length = 300)\n",
    "ts, ψt = timeevolution.schroedinger_dynamic(tspan, ψ0, H);"
   ]
  },
  {
   "cell_type": "code",
   "execution_count": 14,
   "id": "fbb38d7e-9568-46af-a1bb-d7fc147f3557",
   "metadata": {},
   "outputs": [
    {
     "data": {
      "image/png": "[encoded data removed]",
      "text/plain": [
       "Figure(PyObject <Figure size 500x400 with 1 Axes>)"
      ]
     },
     "metadata": {},
     "output_type": "display_data"
    }
   ],
   "source": [
    "energies = zeros(2^Nqubits, length(tspan))\n",
    "\n",
    "fig, ax = plt.subplots(figsize = (5, 4))\n",
    "for (i, t) ∈ enumerate(tspan)\n",
    "    en_instant, ϕs = eigenstates(dense(H(t, 0)), 2^Nqubits)\n",
    "    energies[:, i] = en_instant\n",
    "    coeffs = abs.([dagger(ϕ) * ψt[i] for ϕ ∈ ϕs]).^2\n",
    "    ax.scatter(t/tau * ones(length(en_instant)), en_instant, s = 1, color = \"C3\", alpha = coeffs)\n",
    "end\n",
    "\n",
    "for i ∈ 1:2^Nqubits\n",
    "    ax.plot(tspan/tau, energies[i, :], c = \"gray\", alpha = 0.05)\n",
    "end\n",
    "\n",
    "ax.set_xlabel(L\"Time/$\\tau$\", fontsize = 14)\n",
    "ax.set_ylabel(\"Energy\", fontsize = 14)\n",
    "fig.tight_layout()"
   ]
  },
  {
   "cell_type": "markdown",
   "id": "55367d45-f6fb-4373-a286-5ebe6d07a187",
   "metadata": {},
   "source": [
    "#### Export"
   ]
  },
  {
   "cell_type": "raw",
   "id": "ab5ad3b6-00b6-4dca-b4c7-375d9cff1f9e",
   "metadata": {},
   "source": [
    "io = open(\"energies.csv\", \"w\")\n",
    "write(io, string(join([1:length(tspan);], ','), '\\n'))\n",
    "for i ∈ 1:2^Nqubits\n",
    "    write(io, string(join(round.(energies[i, :], digits = 3), ','), '\\n'))\n",
    "end\n",
    "close(io)"
   ]
  }
 ],
 "metadata": {
  "kernelspec": {
   "display_name": "Julia 1.6.3",
   "language": "julia",
   "name": "julia-1.6"
  },
  "language_info": {
   "file_extension": ".jl",
   "mimetype": "application/julia",
   "name": "julia",
   "version": "1.6.3"
  }
 },
 "nbformat": 4,
 "nbformat_minor": 5
}
